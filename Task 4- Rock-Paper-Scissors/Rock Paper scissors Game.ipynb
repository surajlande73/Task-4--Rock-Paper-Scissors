{
 "cells": [
  {
   "cell_type": "code",
   "execution_count": null,
   "id": "a13191a6-3bf8-44e0-88f8-234011c375e7",
   "metadata": {},
   "outputs": [
    {
     "name": "stdout",
     "output_type": "stream",
     "text": [
      "Rock, Paper, Scissors Game\n",
      "----------------------------\n"
     ]
    },
    {
     "name": "stdin",
     "output_type": "stream",
     "text": [
      "Enter your choice (rock, paper, or scissors):  rock\n"
     ]
    },
    {
     "name": "stdout",
     "output_type": "stream",
     "text": [
      "\n",
      "You chose: rock\n",
      "Computer chose: paper\n",
      "Computer wins!\n"
     ]
    },
    {
     "name": "stdin",
     "output_type": "stream",
     "text": [
      "\n",
      "Do you want to play again? (y/n):  y\n",
      "Enter your choice (rock, paper, or scissors):  paper\n"
     ]
    },
    {
     "name": "stdout",
     "output_type": "stream",
     "text": [
      "\n",
      "You chose: paper\n",
      "Computer chose: paper\n",
      "Tie!\n"
     ]
    }
   ],
   "source": [
    "import random\n",
    "def get_user_choice():\n",
    "    while True:\n",
    "        user_choice = input(\"Enter your choice (rock, paper, or scissors): \").lower()\n",
    "        if user_choice in [\"rock\", \"paper\", \"scissors\"]:\n",
    "            return user_choice\n",
    "        print(\"Invalid choice. Please try again!\")\n",
    "\n",
    "def get_computer_choice():\n",
    "    choices = [\"rock\", \"paper\", \"scissors\"]\n",
    "    return random.choice(choices)\n",
    "\n",
    "def determine_winner(user_choice, computer_choice):\n",
    "    if user_choice == computer_choice:\n",
    "        return \"Tie!\"\n",
    "    if (user_choice == \"rock\" and computer_choice == \"scissors\") or \\\n",
    "       (user_choice == \"scissors\" and computer_choice == \"paper\") or \\\n",
    "       (user_choice == \"paper\" and computer_choice == \"rock\"):\n",
    "        return \"You win!\"\n",
    "    return \"Computer wins!\"\n",
    "\n",
    "def play_game():\n",
    "    user_choice = get_user_choice()\n",
    "    computer_choice = get_computer_choice()\n",
    "    print(f\"\\nYou chose: {user_choice}\")\n",
    "    print(f\"Computer chose: {computer_choice}\")\n",
    "    print(determine_winner(user_choice, computer_choice))\n",
    "\n",
    "def main():\n",
    "    print(\"Rock, Paper, Scissors Game\")\n",
    "    print(\"----------------------------\")\n",
    "\n",
    "    while True:\n",
    "        play_game()\n",
    "        play_again = input(\"\\nDo you want to play again? (y/n): \").lower()\n",
    "        if play_again != \"y\":\n",
    "            break\n",
    "\n",
    "if __name__ == \"__main__\":\n",
    "    main()"
   ]
  },
  {
   "cell_type": "code",
   "execution_count": null,
   "id": "a243d621-076a-4509-8351-3be132d9e26a",
   "metadata": {},
   "outputs": [],
   "source": []
  }
 ],
 "metadata": {
  "kernelspec": {
   "display_name": "Python 3 (ipykernel)",
   "language": "python",
   "name": "python3"
  },
  "language_info": {
   "codemirror_mode": {
    "name": "ipython",
    "version": 3
   },
   "file_extension": ".py",
   "mimetype": "text/x-python",
   "name": "python",
   "nbconvert_exporter": "python",
   "pygments_lexer": "ipython3",
   "version": "3.12.4"
  }
 },
 "nbformat": 4,
 "nbformat_minor": 5
}
